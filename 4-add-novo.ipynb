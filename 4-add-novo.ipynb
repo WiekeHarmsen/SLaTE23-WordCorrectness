{
 "cells": [
  {
   "cell_type": "code",
   "execution_count": 29,
   "metadata": {},
   "outputs": [],
   "source": [
    "import json\n",
    "import glob\n",
    "import pandas as pd"
   ]
  },
  {
   "cell_type": "code",
   "execution_count": 30,
   "metadata": {},
   "outputs": [],
   "source": [
    "# Read json results file\n",
    "file = '../../astla-data/dart-preposttest/novo-asr-results/novo-asr-results-1-1287.json'\n",
    "\n",
    "with open(file, 'r') as f:\n",
    "  data = json.load(f)\n",
    "\n",
    "# print(data[0]['result']['task_uuid'])\n",
    "# print(data[0]['result']['recognized'])\n",
    "# print(data[0]['result']['words'][0])\n",
    "# print(data[0]['result']['words'][1]['label'])\n",
    "# print(data[0]['result']['words'][1]['confidence'])\n",
    "# print(data[0]['result']['words'][1]['phones'][1]['label'])\n",
    "# print(data[0]['result']['words'][1]['phones'][1]['confidence'])\n",
    "# print(data[0]['result']['words'][1]['phones'][1]['end']/1000)\n",
    "# print(data[0]['result']['words'][1]['phones'][1]['begin']/1000)\n",
    "# print(data[0]['result']['words'][1]['phones'][1]['recognized'])\n",
    "# print(data[0]['result']['words'][1]['phones'][1]['recognized']['label'])\n",
    "# print(data[0]['result']['words'][1]['phones'][1]['recognized']['confidence']['prob'])\n",
    "# print(data[0]['result']['words'][1]['phones'][1]['confidence']['prob'])\n",
    "# print(data[0]['meta']['filename'])\n",
    "# print(data[0]['meta']['speaker'])"
   ]
  },
  {
   "cell_type": "code",
   "execution_count": 31,
   "metadata": {},
   "outputs": [
    {
     "data": {
      "text/plain": [
       "['09eae7df-db7c-491b-b7c4-a7c9fcf62f47.mp3',\n",
       " '74be41e8-d940-469f-8ebf-feb90250f9e8.mp3',\n",
       " '97549707-f715-4fe5-926c-b272b388e368.mp3',\n",
       " 'aa809d8a-45d1-4cc0-a2c2-b40066d2849e.mp3',\n",
       " 'd52f2fbc-588a-4002-8c02-772dabdbfc16.mp3',\n",
       " 'e5920085-8c1b-415c-b25d-24b5e5a4a2bf.mp3']"
      ]
     },
     "execution_count": 31,
     "metadata": {},
     "output_type": "execute_result"
    }
   ],
   "source": [
    "audioFiles = [audioFile.split('/')[-1] for audioFile in glob.glob(\"/vol/tensusers5/wharmsen/astla-data/dart-preposttest/slate-data/3-audio/*.mp3\")]\n",
    "audioFiles"
   ]
  },
  {
   "cell_type": "code",
   "execution_count": 32,
   "metadata": {},
   "outputs": [],
   "source": [
    "# audioFiles.append('ffdc492f-82f3-424f-98c1-c682a32b16fd.mp3')"
   ]
  },
  {
   "cell_type": "code",
   "execution_count": 33,
   "metadata": {},
   "outputs": [
    {
     "name": "stdout",
     "output_type": "stream",
     "text": [
      "6\n"
     ]
    }
   ],
   "source": [
    "slate_dict = {}\n",
    "for jsonItem in data:\n",
    "    audio = jsonItem['meta']['filename']\n",
    "    if(audio in audioFiles):\n",
    "        slate_dict[audio] = jsonItem\n",
    "\n",
    "print(len(slate_dict))"
   ]
  },
  {
   "cell_type": "code",
   "execution_count": 35,
   "metadata": {},
   "outputs": [],
   "source": [
    "outputList = []\n",
    "for key in slate_dict.keys():\n",
    "    words = slate_dict[key]['result']['words']\n",
    "    for word in words:\n",
    "        label = word['label']['raw']\n",
    "        if(label not in ['<s>', '<sil>', '</s>']):\n",
    "            confidence = word['confidence']['prob']\n",
    "            novo_acc = 1 if confidence > 47 else 0\n",
    "            begin = word['begin']\n",
    "            end = word['end']\n",
    "            target_phones = \" \".join([phone['label'] + '('+ str(phone['confidence']['prob']) +')'  for phone in word['phones']])\n",
    "            rec_phones = \" \".join([phone['recognized']['label'] + '('+ str(phone['recognized']['confidence']['prob']) +')'  for phone in word['phones']])\n",
    "            output = [key.replace(\".mp3\", \"_\"+label), novo_acc, confidence, begin, end, target_phones, rec_phones]\n",
    "            outputList.append(output)\n",
    "\n",
    "novo_df = pd.DataFrame(outputList, columns=['novo_word', 'novo_acc', 'novo_conf', 'novo_begin', 'novo_end', 'novo_target_phones', 'novo_rec_phones'])\n",
    "novo_df.to_csv('../../astla-data/dart-preposttest/slate-data/5-asr-analysis-results/novo-word-assessments.csv')"
   ]
  },
  {
   "cell_type": "code",
   "execution_count": null,
   "metadata": {},
   "outputs": [],
   "source": []
  }
 ],
 "metadata": {
  "kernelspec": {
   "display_name": "lawiekenoamachine",
   "language": "python",
   "name": "python3"
  },
  "language_info": {
   "codemirror_mode": {
    "name": "ipython",
    "version": 3
   },
   "file_extension": ".py",
   "mimetype": "text/x-python",
   "name": "python",
   "nbconvert_exporter": "python",
   "pygments_lexer": "ipython3",
   "version": "3.8.10"
  },
  "orig_nbformat": 4
 },
 "nbformat": 4,
 "nbformat_minor": 2
}
