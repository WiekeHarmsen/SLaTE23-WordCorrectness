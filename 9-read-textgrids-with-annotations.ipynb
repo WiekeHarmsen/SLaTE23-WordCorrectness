{
 "cells": [
  {
   "cell_type": "code",
   "execution_count": 5,
   "metadata": {},
   "outputs": [],
   "source": [
    "import pandas as pd\n",
    "import textgrids as tg\n",
    "import glob\n",
    "from sklearn.metrics import cohen_kappa_score, matthews_corrcoef\n"
   ]
  },
  {
   "cell_type": "code",
   "execution_count": 6,
   "metadata": {},
   "outputs": [],
   "source": [
    "def tier2List(tierName, file):\n",
    "    phonTransList = []\n",
    "    for interval in file[tierName]:\n",
    "        phonTransList.append(interval.text.strip())\n",
    "    return phonTransList\n"
   ]
  },
  {
   "cell_type": "code",
   "execution_count": 7,
   "metadata": {},
   "outputs": [
    {
     "data": {
      "text/html": [
       "<div>\n",
       "<style scoped>\n",
       "    .dataframe tbody tr th:only-of-type {\n",
       "        vertical-align: middle;\n",
       "    }\n",
       "\n",
       "    .dataframe tbody tr th {\n",
       "        vertical-align: top;\n",
       "    }\n",
       "\n",
       "    .dataframe thead th {\n",
       "        text-align: right;\n",
       "    }\n",
       "</style>\n",
       "<table border=\"1\" class=\"dataframe\">\n",
       "  <thead>\n",
       "    <tr style=\"text-align: right;\">\n",
       "      <th></th>\n",
       "      <th>prompt_in_phonemes</th>\n",
       "      <th>wieke</th>\n",
       "      <th>comments_wieke</th>\n",
       "      <th>loes</th>\n",
       "      <th>comments_loes</th>\n",
       "      <th>carlos</th>\n",
       "      <th>comments_carlos</th>\n",
       "    </tr>\n",
       "  </thead>\n",
       "  <tbody>\n",
       "    <tr>\n",
       "      <th>09eae7df-db7c-491b-b7c4-a7c9fcf62f47_jong</th>\n",
       "      <td>j O N</td>\n",
       "      <td>j O N</td>\n",
       "      <td></td>\n",
       "      <td>j O N</td>\n",
       "      <td></td>\n",
       "      <td>d j O N</td>\n",
       "      <td></td>\n",
       "    </tr>\n",
       "    <tr>\n",
       "      <th>09eae7df-db7c-491b-b7c4-a7c9fcf62f47_lach</th>\n",
       "      <td>l A x</td>\n",
       "      <td>l A N</td>\n",
       "      <td></td>\n",
       "      <td>l A N</td>\n",
       "      <td></td>\n",
       "      <td>l A N</td>\n",
       "      <td></td>\n",
       "    </tr>\n",
       "    <tr>\n",
       "      <th>09eae7df-db7c-491b-b7c4-a7c9fcf62f47_strik</th>\n",
       "      <td>s t r I k</td>\n",
       "      <td>s t @ r I k</td>\n",
       "      <td></td>\n",
       "      <td>s t @ r I k</td>\n",
       "      <td></td>\n",
       "      <td>s t @ r I k</td>\n",
       "      <td>traag tempo</td>\n",
       "    </tr>\n",
       "  </tbody>\n",
       "</table>\n",
       "</div>"
      ],
      "text/plain": [
       "                                           prompt_in_phonemes        wieke  \\\n",
       "09eae7df-db7c-491b-b7c4-a7c9fcf62f47_jong               j O N        j O N   \n",
       "09eae7df-db7c-491b-b7c4-a7c9fcf62f47_lach               l A x        l A N   \n",
       "09eae7df-db7c-491b-b7c4-a7c9fcf62f47_strik          s t r I k  s t @ r I k   \n",
       "\n",
       "                                           comments_wieke         loes  \\\n",
       "09eae7df-db7c-491b-b7c4-a7c9fcf62f47_jong                        j O N   \n",
       "09eae7df-db7c-491b-b7c4-a7c9fcf62f47_lach                        l A N   \n",
       "09eae7df-db7c-491b-b7c4-a7c9fcf62f47_strik                 s t @ r I k   \n",
       "\n",
       "                                           comments_loes       carlos  \\\n",
       "09eae7df-db7c-491b-b7c4-a7c9fcf62f47_jong                     d j O N   \n",
       "09eae7df-db7c-491b-b7c4-a7c9fcf62f47_lach                       l A N   \n",
       "09eae7df-db7c-491b-b7c4-a7c9fcf62f47_strik                s t @ r I k   \n",
       "\n",
       "                                           comments_carlos  \n",
       "09eae7df-db7c-491b-b7c4-a7c9fcf62f47_jong                   \n",
       "09eae7df-db7c-491b-b7c4-a7c9fcf62f47_lach                   \n",
       "09eae7df-db7c-491b-b7c4-a7c9fcf62f47_strik     traag tempo  "
      ]
     },
     "execution_count": 7,
     "metadata": {},
     "output_type": "execute_result"
    }
   ],
   "source": [
    "basepath = '../../astla-data/dart-preposttest/slate-data/6-phonetic-transcriptions/annotated-textgrids/'\n",
    "annotators = ['wieke', 'loes', 'carlos']  # , 'carlos'\n",
    "\n",
    "outputDF = pd.DataFrame()\n",
    "for annotator in annotators:\n",
    "    filelist = glob.glob(basepath+annotator+'/*.TextGrid')\n",
    "\n",
    "    for tgfile in filelist:\n",
    "        file = tg.TextGrid(tgfile)\n",
    "\n",
    "        fileID = tgfile.split('/')[-1].replace('.TextGrid', '')\n",
    "\n",
    "        indexList = [fileID + '_' +promptWord for promptWord in tier2List('prompt', file)]\n",
    "        phonTransAnnotatorList = tier2List('phoneticTranscription', file)\n",
    "        commentsList = tier2List('comments', file)\n",
    "        promptPhonesList = tier2List('prompt_phonemes', file)\n",
    "\n",
    "        #Save computed data in dataframe\n",
    "        for idx in range(len(indexList)):\n",
    "            indexName = indexList[idx]\n",
    "            phonTransAnnotator = phonTransAnnotatorList[idx]\n",
    "            comment = commentsList[idx]\n",
    "            promptPhonesList[idx]\n",
    "            if(annotator == 'wieke'):\n",
    "                outputDF.loc[indexName, 'prompt_in_phonemes'] = promptPhonesList[idx]\n",
    "            outputDF.loc[indexName, annotator] = phonTransAnnotatorList[idx]\n",
    "            outputDF.loc[indexName, 'comments_'+annotator] = commentsList[idx]        \n",
    "\n",
    "# Remove empty rows\n",
    "outputDF = outputDF[outputDF['prompt_in_phonemes'] != '']\n",
    "outputDF.head(3)\n"
   ]
  },
  {
   "cell_type": "code",
   "execution_count": 8,
   "metadata": {},
   "outputs": [],
   "source": [
    "def checkIfValuesAreEqual(phonTrans1, phonTrans2):\n",
    "    return 1 if (phonTrans1 == phonTrans2) else 0\n",
    "\n",
    "# wieke's scores are taken as gold standard and compared to prompt\n",
    "outputDF['correct_prompt_wieke'] = outputDF.apply(lambda row : checkIfValuesAreEqual(row['prompt_in_phonemes'], row['wieke']), axis = 1)\n",
    "outputDF['correct_prompt_loes'] = outputDF.apply(\n",
    "    lambda row: checkIfValuesAreEqual(row['prompt_in_phonemes'], row['loes']), axis=1)\n"
   ]
  },
  {
   "cell_type": "code",
   "execution_count": 9,
   "metadata": {},
   "outputs": [
    {
     "name": "stdout",
     "output_type": "stream",
     "text": [
      "0.5712881505873102\n",
      "0.7150907421553531\n"
     ]
    }
   ],
   "source": [
    "print(cohen_kappa_score(outputDF['wieke'], outputDF['loes']))\n",
    "print(matthews_corrcoef(outputDF['correct_prompt_wieke'], outputDF['correct_prompt_loes']))\n"
   ]
  },
  {
   "cell_type": "code",
   "execution_count": 10,
   "metadata": {},
   "outputs": [],
   "source": [
    "outputDF.to_csv(\n",
    "    '../../astla-data/dart-preposttest/slate-data/6-phonetic-transcriptions/phonetic-transcriptions-wieke-loes-carlos.csv')\n"
   ]
  },
  {
   "cell_type": "code",
   "execution_count": null,
   "metadata": {},
   "outputs": [],
   "source": []
  },
  {
   "cell_type": "code",
   "execution_count": null,
   "metadata": {},
   "outputs": [],
   "source": []
  }
 ],
 "metadata": {
  "kernelspec": {
   "display_name": "lawiekenoamachine",
   "language": "python",
   "name": "python3"
  },
  "language_info": {
   "codemirror_mode": {
    "name": "ipython",
    "version": 3
   },
   "file_extension": ".py",
   "mimetype": "text/x-python",
   "name": "python",
   "nbconvert_exporter": "python",
   "pygments_lexer": "ipython3",
   "version": "3.8.10"
  },
  "orig_nbformat": 4
 },
 "nbformat": 4,
 "nbformat_minor": 2
}
